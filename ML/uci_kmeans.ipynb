{
 "cells": [
  {
   "cell_type": "markdown",
   "metadata": {},
   "source": [
    "# K Means Clustering on UCI Retail Dataset\n",
    "-- Sourasish Basu, 22051636"
   ]
  },
  {
   "cell_type": "markdown",
   "metadata": {},
   "source": [
    "## Importing Libraries"
   ]
  },
  {
   "cell_type": "code",
   "execution_count": 98,
   "metadata": {},
   "outputs": [],
   "source": [
    "from ucimlrepo import fetch_ucirepo \n",
    "import re\n",
    "import string\n",
    "import pandas as pd\n",
    "import numpy as np\n",
    "from sklearn.preprocessing import StandardScaler\n",
    "from sklearn.model_selection import train_test_split\n",
    "from sklearn.feature_extraction.text import TfidfVectorizer\n",
    "from sklearn.preprocessing import LabelEncoder\n",
    "from sklearn.decomposition import PCA\n",
    "from sklearn.cluster import KMeans\n",
    "from sklearn.metrics import silhouette_score\n",
    "import matplotlib.pyplot as plt\n",
    "import seaborn as sns\n"
   ]
  },
  {
   "cell_type": "markdown",
   "metadata": {},
   "source": [
    "## Importing Dataset"
   ]
  },
  {
   "cell_type": "code",
   "execution_count": 99,
   "metadata": {},
   "outputs": [],
   "source": [
    "# fetch dataset \n",
    "online_retail = fetch_ucirepo(id=352) \n",
    "  \n",
    "# data (as pandas dataframes) \n",
    "x = online_retail.data.features \n",
    "y = online_retail.data.targets \n",
    "\n",
    "data = pd.concat([x, y], axis=1)"
   ]
  },
  {
   "cell_type": "code",
   "execution_count": 100,
   "metadata": {},
   "outputs": [
    {
     "name": "stdout",
     "output_type": "stream",
     "text": [
      "                           Description  Quantity     InvoiceDate  UnitPrice  \\\n",
      "0   WHITE HANGING HEART T-LIGHT HOLDER         6  12/1/2010 8:26       2.55   \n",
      "1                  WHITE METAL LANTERN         6  12/1/2010 8:26       3.39   \n",
      "2       CREAM CUPID HEARTS COAT HANGER         8  12/1/2010 8:26       2.75   \n",
      "3  KNITTED UNION FLAG HOT WATER BOTTLE         6  12/1/2010 8:26       3.39   \n",
      "4       RED WOOLLY HOTTIE WHITE HEART.         6  12/1/2010 8:26       3.39   \n",
      "\n",
      "   CustomerID         Country  \n",
      "0     17850.0  United Kingdom  \n",
      "1     17850.0  United Kingdom  \n",
      "2     17850.0  United Kingdom  \n",
      "3     17850.0  United Kingdom  \n",
      "4     17850.0  United Kingdom  \n"
     ]
    }
   ],
   "source": [
    "print(data.head())"
   ]
  },
  {
   "cell_type": "markdown",
   "metadata": {},
   "source": [
    "## Preparing Data"
   ]
  },
  {
   "cell_type": "code",
   "execution_count": null,
   "metadata": {},
   "outputs": [
    {
     "name": "stdout",
     "output_type": "stream",
     "text": [
      "                           Description  Quantity     InvoiceDate  UnitPrice  \\\n",
      "0   WHITE HANGING HEART T-LIGHT HOLDER         6  12/1/2010 8:26       2.55   \n",
      "1                  WHITE METAL LANTERN         6  12/1/2010 8:26       3.39   \n",
      "2       CREAM CUPID HEARTS COAT HANGER         8  12/1/2010 8:26       2.75   \n",
      "3  KNITTED UNION FLAG HOT WATER BOTTLE         6  12/1/2010 8:26       3.39   \n",
      "4       RED WOOLLY HOTTIE WHITE HEART.         6  12/1/2010 8:26       3.39   \n",
      "\n",
      "   CustomerID         Country  \n",
      "0     17850.0  United Kingdom  \n",
      "1     17850.0  United Kingdom  \n",
      "2     17850.0  United Kingdom  \n",
      "3     17850.0  United Kingdom  \n",
      "4     17850.0  United Kingdom  \n"
     ]
    }
   ],
   "source": [
    "data[\"total_price\"] = data[\"Quantity\"] * data[\"UnitPrice\"]\n",
    "columns = [\"InvoiceDate\", \"CustomerID\", \"Quantity\", \"UnitPrice\"]\n",
    "data = data.drop(columns, axis=1)\n",
    "data = data[[\"Description\", \"total_price\", \"Country\"]]\n",
    "print(data.head(15))"
   ]
  },
  {
   "cell_type": "code",
   "execution_count": 103,
   "metadata": {},
   "outputs": [],
   "source": [
    "def wordopt(text):\n",
    "    text = text.lower()\n",
    "    text = re.sub(r'\\[.*?\\]', '', text)  # Use raw string (r'...')\n",
    "    text = re.sub(r'\\W', ' ', text)  # Use raw string\n",
    "    text = re.sub(r'https?://\\S+|www\\.\\S+', '', text)  # Use raw string\n",
    "    text = re.sub(r'<.*?>+', '', text)  # Remove HTML tags correctly\n",
    "    text = re.sub(r'[%s]' % re.escape(string.punctuation), '', text)  # Remove punctuation\n",
    "    text = re.sub(r'\\w*\\d\\w*', '', text)  # Remove words with numbers\n",
    "    return text\n"
   ]
  },
  {
   "cell_type": "code",
   "execution_count": 104,
   "metadata": {},
   "outputs": [],
   "source": [
    "data.dropna(inplace=True)   "
   ]
  },
  {
   "cell_type": "code",
   "execution_count": null,
   "metadata": {},
   "outputs": [
    {
     "name": "stdout",
     "output_type": "stream",
     "text": [
      "0      white hanging heart t light holder\n",
      "1                     white metal lantern\n",
      "2          cream cupid hearts coat hanger\n",
      "3     knitted union flag hot water bottle\n",
      "4          red woolly hottie white heart \n",
      "5             set  babushka nesting boxes\n",
      "6       glass star frosted t light holder\n",
      "7                  hand warmer union jack\n",
      "8               hand warmer red polka dot\n",
      "9           assorted colour bird ornament\n",
      "10             poppy s playhouse bedroom \n",
      "11              poppy s playhouse kitchen\n",
      "12      feltcraft princess charlotte doll\n",
      "13                ivory knitted mug cosy \n",
      "14      box of  assorted colour teaspoons\n",
      "Name: Description, dtype: object\n"
     ]
    }
   ],
   "source": [
    "data[\"Description\"] = data[\"Description\"].apply(wordopt)\n",
    "\n",
    "print(data[\"Description\"].head(15))"
   ]
  },
  {
   "cell_type": "markdown",
   "metadata": {},
   "source": [
    "## Data Preprocessing"
   ]
  },
  {
   "cell_type": "code",
   "execution_count": 106,
   "metadata": {},
   "outputs": [
    {
     "name": "stdout",
     "output_type": "stream",
     "text": [
      "[36 13  0 24 14 25 10 33 31 26 27 19  3 22 20 17  6  9  7 32  1 18 12  2\n",
      " 15 16 30 21 35 29  8  5 37  4 34 11 23 28]\n"
     ]
    }
   ],
   "source": [
    "label_encoder = LabelEncoder()\n",
    "data[\"Country\"] = label_encoder.fit_transform(data[\"Country\"])\n",
    "print(data[\"Country\"].unique())\n"
   ]
  },
  {
   "cell_type": "code",
   "execution_count": 107,
   "metadata": {},
   "outputs": [],
   "source": [
    "X1 = data[\"Description\"]\n",
    "X2 = data[\"total_price\"]\n",
    "Y = data[\"Country\"]\n"
   ]
  },
  {
   "cell_type": "code",
   "execution_count": 108,
   "metadata": {},
   "outputs": [],
   "source": [
    "vectorization = TfidfVectorizer()\n",
    "X1_vec = vectorization.fit_transform(X1)"
   ]
  },
  {
   "cell_type": "code",
   "execution_count": 109,
   "metadata": {},
   "outputs": [],
   "source": [
    "scaler = StandardScaler()\n",
    "X2_norm = scaler.fit_transform(data[[\"total_price\"]])  # Normalize price"
   ]
  },
  {
   "cell_type": "code",
   "execution_count": 110,
   "metadata": {},
   "outputs": [
    {
     "name": "stdout",
     "output_type": "stream",
     "text": [
      "Final X shape: (540455, 101)\n"
     ]
    }
   ],
   "source": [
    "X1_dense = X1_vec.toarray()  # Convert TF-IDF to dense numpy array\n",
    "\n",
    "# Apply PCA to reduce dimensions (e.g., 100 principal components)\n",
    "pca = PCA(n_components=100, random_state=42)  \n",
    "X1_pca = pca.fit_transform(X1_dense)\n",
    "\n",
    "# Concatenate PCA-transformed text features with normalized price\n",
    "X = np.hstack((X1_pca, X2_norm))\n",
    "\n",
    "print(\"Final X shape:\", X.shape)\n",
    "x_train, x_test, y_train, y_test = train_test_split(X, Y, test_size=0.2, random_state=42)\n"
   ]
  },
  {
   "cell_type": "code",
   "execution_count": 111,
   "metadata": {},
   "outputs": [
    {
     "name": "stdout",
     "output_type": "stream",
     "text": [
      "2 698893.544727028\n",
      "3 309892.0262903974\n",
      "4 301636.3898514363\n",
      "5 296145.3739339442\n",
      "6 249332.29870617043\n",
      "7 246715.5301847482\n",
      "8 224806.9616366893\n",
      "9 219731.9807093839\n",
      "10 219049.204420143\n",
      "11 212500.6239538322\n",
      "12 209184.7756868289\n",
      "13 205852.27429466048\n",
      "14 202144.59553377132\n",
      "15 200412.56735000788\n",
      "16 198461.58241061267\n",
      "17 195720.00514938543\n",
      "18 191248.77930330051\n",
      "19 188818.485680358\n"
     ]
    }
   ],
   "source": [
    "inertia = []\n",
    "K_values = range(2, 20)\n",
    "\n",
    "for k in K_values:\n",
    "    kmeans = KMeans(n_clusters=k, random_state=42)\n",
    "    kmeans.fit(x_train)\n",
    "    inertia.append(kmeans.inertia_)\n",
    "    print(k, kmeans.inertia_)"
   ]
  },
  {
   "cell_type": "markdown",
   "metadata": {},
   "source": [
    "## Plotting Optimal K"
   ]
  },
  {
   "cell_type": "code",
   "execution_count": 112,
   "metadata": {},
   "outputs": [
    {
     "data": {
      "image/png": "[encoded data removed]",
      "text/plain": [
       "<Figure size 800x500 with 1 Axes>"
      ]
     },
     "metadata": {},
     "output_type": "display_data"
    }
   ],
   "source": [
    "# Plot the elbow curve\n",
    "plt.style.use('dark_background')\n",
    "plt.figure(figsize=(8, 5))\n",
    "sns.lineplot(x=K_values, y=inertia, marker=\"o\")\n",
    "plt.xlabel(\"Number of Clusters (K)\")\n",
    "plt.ylabel(\"Inertia (Distortion Score)\")\n",
    "plt.title(\"Elbow Method for Optimal K\")\n",
    "plt.show()"
   ]
  },
  {
   "cell_type": "markdown",
   "metadata": {},
   "source": [
    "## Model Fitting"
   ]
  },
  {
   "cell_type": "code",
   "execution_count": 113,
   "metadata": {},
   "outputs": [],
   "source": [
    "# Taking k=6\n",
    "kmeans = KMeans(n_clusters=6, random_state=42)\n",
    "kmeans.fit(x_train)\n",
    "\n",
    "# Get cluster labels for training data\n",
    "train_labels = kmeans.labels_"
   ]
  },
  {
   "cell_type": "markdown",
   "metadata": {},
   "source": [
    "## Model Evaluation"
   ]
  },
  {
   "cell_type": "code",
   "execution_count": null,
   "metadata": {},
   "outputs": [
    {
     "name": "stdout",
     "output_type": "stream",
     "text": [
      "Silhouette Score (Sampled Data): 0.8510807363605543\n"
     ]
    }
   ],
   "source": [
    "sample_size = 10000  # Adjust based on your data size\n",
    "idx = np.random.choice(len(x_train), size=sample_size, replace=False)\n",
    "\n",
    "silhouette_sample = silhouette_score(x_train[idx], np.array(train_labels)[idx])\n",
    "print(f\"Silhouette Score (Sampled Data): {0.85108073636055422}\")"
   ]
  },
  {
   "cell_type": "markdown",
   "metadata": {},
   "source": [
    "## Model Testing"
   ]
  },
  {
   "cell_type": "code",
   "execution_count": null,
   "metadata": {},
   "outputs": [
    {
     "name": "stdout",
     "output_type": "stream",
     "text": [
      "Silhouette Score on Test Data: 0.8281\n"
     ]
    }
   ],
   "source": [
    "test_labels = kmeans.predict(x_test)\n",
    "silhouette_test = silhouette_score(x_test, test_labels)\n",
    "print(f\"Silhouette Score on Test Data: {silhouette_test:.4f}\")"
   ]
  }
 ],
 "metadata": {
  "kernelspec": {
   "display_name": ".venv",
   "language": "python",
   "name": "python3"
  },
  "language_info": {
   "codemirror_mode": {
    "name": "ipython",
    "version": 3
   },
   "file_extension": ".py",
   "mimetype": "text/x-python",
   "name": "python",
   "nbconvert_exporter": "python",
   "pygments_lexer": "ipython3",
   "version": "3.12.9"
  }
 },
 "nbformat": 4,
 "nbformat_minor": 2
}
